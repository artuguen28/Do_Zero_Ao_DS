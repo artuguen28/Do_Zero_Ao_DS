{
 "cells": [
  {
   "cell_type": "markdown",
   "metadata": {},
   "source": [
    "Importando biblioteca"
   ]
  },
  {
   "cell_type": "code",
   "execution_count": null,
   "metadata": {},
   "outputs": [],
   "source": [
    "import pandas as pd"
   ]
  },
  {
   "cell_type": "markdown",
   "metadata": {},
   "source": [
    "Carregando dataset na variável data"
   ]
  },
  {
   "cell_type": "code",
   "execution_count": null,
   "metadata": {},
   "outputs": [],
   "source": [
    "data = pd.read_csv(\"datasets\\kc_house_data.csv\")\n",
    "data.head()\n"
   ]
  },
  {
   "cell_type": "markdown",
   "metadata": {},
   "source": [
    "Criando a coluna com níveis"
   ]
  },
  {
   "cell_type": "markdown",
   "metadata": {},
   "source": [
    "Utilizando loop for"
   ]
  },
  {
   "cell_type": "code",
   "execution_count": null,
   "metadata": {},
   "outputs": [],
   "source": [
    "for i in range(len(data)):\n",
    "    if (data.loc[i, 'price'] > 0) & (data.loc[i, 'price'] < 321950):\n",
    "        data.loc[i, 'nivel'] = 'nivel_0'\n",
    "    elif (data.loc[i, 'price'] >= 321950) & (data.loc[i, 'price'] < 450000):\n",
    "        data.loc[i, 'nivel'] = 'nivel_1'\n",
    "    elif (data.loc[i, 'price'] >= 450000) & (data.loc[i, 'price'] < 645000):\n",
    "        data.loc[i, 'nivel'] = 'nivel_2'\n",
    "    else:\n",
    "        data.loc[i, 'nivel'] = 'nivel_3'\n"
   ]
  },
  {
   "cell_type": "code",
   "execution_count": null,
   "metadata": {},
   "outputs": [],
   "source": [
    "data.head(30)"
   ]
  },
  {
   "cell_type": "markdown",
   "metadata": {},
   "source": [
    "Respondendo as perguntas do CEO"
   ]
  },
  {
   "cell_type": "code",
   "execution_count": null,
   "metadata": {},
   "outputs": [],
   "source": [
    "data = pd.read_csv('datasets\\kc_house_data.csv')"
   ]
  },
  {
   "cell_type": "code",
   "execution_count": null,
   "metadata": {},
   "outputs": [],
   "source": [
    "from geopy.geocoders import Nominatim\n",
    "\n",
    "geolocator = Nominatim( user_agent='geoapiExercises')\n",
    "\n",
    "response = geolocator.reverse( '47.5112,-122.257'  )\n",
    "\n",
    "print(response.raw['address']['road'])\n",
    "print(response.raw['address']['house_number'])\n",
    "print(response.raw['address']['neighbourhood'])\n",
    "print(response.raw['address']['city'])\n",
    "print(response.raw['address']['county'])\n",
    "print(response.raw['address']['state'])\n"
   ]
  },
  {
   "cell_type": "code",
   "execution_count": null,
   "metadata": {},
   "outputs": [],
   "source": []
  },
  {
   "cell_type": "code",
   "execution_count": null,
   "metadata": {},
   "outputs": [],
   "source": [
    "data = pd.read_csv('datasets\\kc_house_data.csv')\n",
    "\n",
    "# Create empty rows\n",
    "data['road'] = 'NA'\n",
    "data['house_number'] = 'NA'\n",
    "data['neighbourhood'] = 'NA'\n",
    "data['city'] = 'NA'\n",
    "data['county'] = 'NA'\n",
    "data['state'] = 'NA'\n",
    "\n",
    "geolocator = Nominatim(user_agent='geoapiExercises')\n",
    "\n",
    "\n",
    "\n",
    "for i in range( len(data) ):\n",
    "    print( f'Loop: {i}/{len(data)}')\n",
    "    \n",
    "    # Make query\n",
    "    query = str(data.loc[i, 'lat']) + ',' + str(data.loc[i, 'long'])\n",
    "    \n",
    "    # API Request\n",
    "    response = geolocator.reverse(query)\n",
    "    \n",
    "    # Populate data\n",
    "    if 'house_number' in response.raw['address']:\n",
    "        data.loc[i, 'house_number'] = response.raw['address']['house_number']\n",
    "        \n",
    "    if 'road' in response.raw['address']:\n",
    "        data.loc[i, 'road'] = response.raw['address']['road']\n",
    "        \n",
    "    if 'neighbourhood' in response.raw['address']:\n",
    "        data.loc[i, 'neighbourhood'] = response.raw['address']['neighbourhood']\n",
    "        \n",
    "    if 'city' in response.raw['address']:\n",
    "        data.loc[i, 'city'] = response.raw['address']['city']\n",
    "        \n",
    "    if 'county' in response.raw['address']:\n",
    "        data.loc[i, 'county'] = response.raw['address']['county']\n",
    "        \n",
    "    if 'state' in response.raw['address']:\n",
    "        data.loc[i, 'state'] = response.raw['address']['state']\n",
    "\n",
    "\n",
    "\n"
   ]
  },
  {
   "cell_type": "markdown",
   "metadata": {},
   "source": [
    "Filtros interativos no mapa"
   ]
  },
  {
   "cell_type": "code",
   "execution_count": null,
   "metadata": {},
   "outputs": [],
   "source": [
    "import plotly.express as px"
   ]
  },
  {
   "cell_type": "code",
   "execution_count": null,
   "metadata": {},
   "outputs": [],
   "source": [
    "data = pd.read_csv('datasets\\kc_house_data.csv')\n",
    "\n",
    "houses = data[['id', 'lat', 'long', 'price']].copy()\n",
    "\n",
    "# Define levels\n",
    "for i in range(len( houses )):\n",
    "    if houses.loc[i, 'price'] <= 321950:\n",
    "        houses.loc[i, 'level'] = 0\n",
    "        \n",
    "    elif (houses.loc[i, 'price'] > 321950) & (houses.loc[i, 'price'] <= 450000):\n",
    "        houses.loc[i, 'level'] = 1\n",
    "        \n",
    "    elif (houses.loc[i, 'price'] > 450000) & (houses.loc[i, 'price'] <= 645000):\n",
    "        houses.loc[i, 'level'] = 2\n",
    "        \n",
    "    else:\n",
    "        houses.loc[i, 'level'] = 3\n",
    "        \n",
    "houses['level'] = houses['level'].astype(int)\n",
    "\n",
    "fig = px.scatter_mapbox( houses,\n",
    "                        lat='lat',\n",
    "                        lon='long',\n",
    "                        color='level',\n",
    "                        size='price',\n",
    "                        color_continuous_scale=px.colors.cyclical.IceFire,\n",
    "                        size_max=15,\n",
    "                        zoom=10)\n",
    "\n",
    "fig.update_layout( mapbox_style='open-street-map')\n",
    "fig.update_layout( height=600, margin={'r':0, 't':0, 'l':0, 'b':0})\n",
    "fig.show()\n"
   ]
  },
  {
   "cell_type": "markdown",
   "metadata": {},
   "source": [
    "# Adicionando filtros iterativos"
   ]
  },
  {
   "cell_type": "code",
   "execution_count": 28,
   "metadata": {},
   "outputs": [],
   "source": [
    "import ipywidgets as widgets\n",
    "from ipywidgets import fixed"
   ]
  },
  {
   "cell_type": "code",
   "execution_count": 31,
   "metadata": {},
   "outputs": [],
   "source": [
    "df = pd.read_csv('datasets\\kc_house_data.csv')\n",
    "\n",
    "df['is_waterfront'] = df['waterfront'].apply( lambda x: 'yes' if x == 1 else 'no')\n",
    "\n",
    "df['level'] = df['price'].apply(lambda x: 0 if x < 321950 else\n",
    "                                        1 if (x > 321950) & ( x< 450000) else\n",
    "                                        2 if (x > 450000) & (x < 645000) else 3)\n",
    "\n",
    "df['level'] = df['level'].astype(int)\n",
    "style = {'description_width': 'initial'}\n",
    "\n",
    "# Iterative buttons\n",
    "price_limit = widgets.IntSlider(\n",
    "    value = 540000,\n",
    "    min = 75000,\n",
    "    max = 77000000,\n",
    "    step = 1,\n",
    "    description='Maximun Price',\n",
    "    disable=False,\n",
    "    style = style\n",
    "    \n",
    ")\n",
    "\n",
    "waterfront_bar = widgets.Dropdown(\n",
    "    options = df['is_waterfront'].unique().tolist(),\n",
    "    value='yes',\n",
    "    description='Water View',\n",
    "    disable=False\n",
    ")\n",
    "\n",
    "def update_map(df, waterfront, limit):\n",
    "    houses = df[(df['price'] <= limit) & \n",
    "                (df['is_waterfront'] == waterfront)][['id', 'lat', 'long', 'price', 'level']]\n",
    "    \n",
    "    fig = px.scatter_mapbox(houses,\n",
    "                            lat='lat',\n",
    "                            lon='long',\n",
    "                            color='level',\n",
    "                            size='price',\n",
    "                            color_continuous_scale=px.colors.cyclical.IceFire,\n",
    "                            size_max=15,\n",
    "                            zoom=10)\n",
    "\n",
    "    fig.update_layout(mapbox_style='open-street-map')\n",
    "    fig.update_layout(height=600, margin={'r': 0, 't': 0, 'l': 0, 'b': 0})\n",
    "    fig.show()\n"
   ]
  },
  {
   "cell_type": "code",
   "execution_count": 34,
   "metadata": {},
   "outputs": [
    {
     "data": {
      "application/vnd.jupyter.widget-view+json": {
       "model_id": "bd06013b79024b6aa05bd05861e09d2f",
       "version_major": 2,
       "version_minor": 0
      },
      "text/plain": [
       "interactive(children=(Dropdown(description='Water View', index=1, options=('no', 'yes'), value='yes'), IntSlid…"
      ]
     },
     "metadata": {},
     "output_type": "display_data"
    }
   ],
   "source": [
    "widgets.interactive(update_map, df=fixed( df ), waterfront=waterfront_bar, limit=price_limit)"
   ]
  },
  {
   "cell_type": "markdown",
   "metadata": {},
   "source": [
    "Iteratividade com Dashboard\n"
   ]
  },
  {
   "cell_type": "code",
   "execution_count": 36,
   "metadata": {},
   "outputs": [],
   "source": [
    "import ipywidgets as widgets\n",
    "from matplotlib import gridspec\n",
    "from matplotlib import pyplot as plt"
   ]
  },
  {
   "cell_type": "code",
   "execution_count": 47,
   "metadata": {},
   "outputs": [],
   "source": [
    "# Prepare dataset \n",
    "data = pd.read_csv('datasets\\kc_house_data.csv')\n",
    "\n",
    "# Change date format\n",
    "data['year'] = pd.to_datetime( data['date']).dt.strftime( '%Y' )\n",
    "data['date'] = pd.to_datetime( data['date']).dt.strftime( '%Y-%m-%d' )\n",
    "data['year_week'] = pd.to_datetime(data['date']).dt.strftime('%Y-%U' )\n",
    "\n",
    "# Widgets to control data\n",
    "date_limit = widgets.SelectionSlider(\n",
    "    options=df['date'].sort_values().unique().tolist(),\n",
    "    value = '2014-12-01',\n",
    "    description = 'Disponível',\n",
    "    continuous_update = False,\n",
    "    orientation = 'horizontal',\n",
    "    readout=True)\n",
    "\n",
    "def update_map( data, limit ):\n",
    "    # Filter data\n",
    "    df = data[data['date'] >= limit].copy()\n",
    "    \n",
    "    fig = plt.figure( figsize=(21,12))\n",
    "    specs = gridspec.GridSpec(ncols=2, nrows=2, figure=fig )\n",
    "    \n",
    "    ax1 = fig.add_subplot( specs[0, :]) # First rows\n",
    "    ax2 = fig.add_subplot( specs[1, 0]) # Second row First Column\n",
    "    ax3 = fig.add_subplot( specs[1, 1]) # Second Row Second Column rows\n",
    "    \n",
    "    by_year = df[['id', 'year']].groupby( 'year' ).sum().reset_index()\n",
    "    ax1.bar( by_year['year'], by_year['id'] )\n",
    "    \n",
    "    by_day = df[['id', 'date']].groupby('date').mean().reset_index()\n",
    "    ax2.plot(by_day['date'], by_day['id'] )\n",
    "    ax2.set_title( 'Avg Price by Day' )\n",
    "    \n",
    "    by_week_of_year = df[['id', 'year_week']].groupby('year_week').mean().reset_index()\n",
    "    ax3.bar(by_week_of_year['year_week'], by_week_of_year['id'])\n",
    "    ax3.set_title('Avg Price by Week of Year')\n",
    "    plt.xticks( rotation=60 )\n",
    "    \n",
    "    \n"
   ]
  },
  {
   "cell_type": "code",
   "execution_count": 48,
   "metadata": {},
   "outputs": [
    {
     "data": {
      "application/vnd.jupyter.widget-view+json": {
       "model_id": "6e7bdc62da124bf188c11975cd3f3774",
       "version_major": 2,
       "version_minor": 0
      },
      "text/plain": [
       "interactive(children=(SelectionSlider(continuous_update=False, description='Disponível', index=212, options=('…"
      ]
     },
     "metadata": {},
     "output_type": "display_data"
    }
   ],
   "source": [
    "widgets.interactive( update_map, data=fixed(df), limit=date_limit )"
   ]
  }
 ],
 "metadata": {
  "interpreter": {
   "hash": "0b4cd1dba37433b1e50c010185bc348f8249c88fc584b8900b63ec6ab96afba5"
  },
  "kernelspec": {
   "display_name": "Python 3.9.0 64-bit",
   "language": "python",
   "name": "python3"
  },
  "language_info": {
   "codemirror_mode": {
    "name": "ipython",
    "version": 3
   },
   "file_extension": ".py",
   "mimetype": "text/x-python",
   "name": "python",
   "nbconvert_exporter": "python",
   "pygments_lexer": "ipython3",
   "version": "3.9.0"
  },
  "orig_nbformat": 4
 },
 "nbformat": 4,
 "nbformat_minor": 2
}
